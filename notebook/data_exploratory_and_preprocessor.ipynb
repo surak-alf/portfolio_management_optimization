{
  "cells": [
    {
      "cell_type": "code",
      "execution_count": 1,
      "metadata": {
        "id": "WVcb5Xzhu6li"
      },
      "outputs": [],
      "source": [
        "import pandas as pd\n",
        "import numpy as np\n",
        "import yfinance as yf\n",
        "import matplotlib.pyplot as plt\n",
        "import seaborn as sns"
      ]
    },
    {
      "cell_type": "code",
      "execution_count": 2,
      "metadata": {
        "id": "CKuH-Gffu6jK"
      },
      "outputs": [],
      "source": [
        "import sys\n",
        "import os\n",
        "\n",
        "# Get the directory of the current notebook\n",
        "current_dir = os.path.dirname(os.path.abspath('../scripts'))\n",
        "\n",
        "# Add the 'scripts' directory to the Python path\n",
        "scripts_dir = os.path.join(current_dir, 'scripts')\n",
        "sys.path.append(scripts_dir)"
      ]
    },
    {
      "cell_type": "code",
      "execution_count": 4,
      "metadata": {},
      "outputs": [],
      "source": [
        "import sys\n",
        "import os\n",
        "# Get the directory of the current notebook\n",
        "current_dir = os.path.dirname(os.path.abspath('../scripts')) \n",
        "\n",
        "# Add the 'scripts' directory to the Python path\n",
        "scripts_dir = os.path.join(current_dir, 'scripts')\n",
        "sys.path.append(scripts_dir)"
      ]
    },
    {
      "cell_type": "code",
      "execution_count": 5,
      "metadata": {
        "colab": {
          "base_uri": "https://localhost:8080/",
          "height": 314
        },
        "id": "rkdR1TEju6gS",
        "outputId": "4ce29e83-588c-4b11-adf0-cd1c7264acc6"
      },
      "outputs": [
        {
          "ename": "ModuleNotFoundError",
          "evalue": "No module named 'data_analysis'",
          "output_type": "error",
          "traceback": [
            "\u001b[1;31m---------------------------------------------------------------------------\u001b[0m",
            "\u001b[1;31mModuleNotFoundError\u001b[0m                       Traceback (most recent call last)",
            "Cell \u001b[1;32mIn[5], line 1\u001b[0m\n\u001b[1;32m----> 1\u001b[0m \u001b[38;5;28;01mfrom\u001b[39;00m\u001b[38;5;250m \u001b[39m\u001b[38;5;21;01mdata_analysis\u001b[39;00m\u001b[38;5;250m \u001b[39m\u001b[38;5;28;01mimport\u001b[39;00m download_stock_data\n",
            "\u001b[1;31mModuleNotFoundError\u001b[0m: No module named 'data_analysis'"
          ]
        }
      ],
      "source": [
        "from data_analysis import download_stock_data"
      ]
    },
    {
      "cell_type": "code",
      "execution_count": null,
      "metadata": {
        "id": "WEs2WUuEvCL0"
      },
      "outputs": [],
      "source": [
        "download_stock_data(TESLA)"
      ]
    },
    {
      "cell_type": "code",
      "execution_count": null,
      "metadata": {},
      "outputs": [],
      "source": []
    }
  ],
  "metadata": {
    "colab": {
      "provenance": []
    },
    "kernelspec": {
      "display_name": ".venv",
      "language": "python",
      "name": "python3"
    },
    "language_info": {
      "codemirror_mode": {
        "name": "ipython",
        "version": 3
      },
      "file_extension": ".py",
      "mimetype": "text/x-python",
      "name": "python",
      "nbconvert_exporter": "python",
      "pygments_lexer": "ipython3",
      "version": "3.12.4"
    }
  },
  "nbformat": 4,
  "nbformat_minor": 0
}
